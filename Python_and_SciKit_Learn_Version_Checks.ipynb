{
  "nbformat": 4,
  "nbformat_minor": 0,
  "metadata": {
    "colab": {
      "name": "Python and SciKit-Learn Version Checks",
      "provenance": []
    },
    "kernelspec": {
      "name": "python3",
      "display_name": "Python 3"
    }
  },
  "cells": [
    {
      "cell_type": "code",
      "metadata": {
        "id": "ndr3gzX5w1uy",
        "outputId": "9fe66b5c-b1ce-4a6f-b8bf-3539282747ca",
        "colab": {
          "base_uri": "https://localhost:8080/"
        }
      },
      "source": [
        "#check python version\n",
        "import sys\n",
        "print(\"Python Version:\",sys.version)\n",
        "\n",
        "#checl scikit-learn version \n",
        "import sklearn\n",
        "print(\"SciKit-Learn Version:\",sklearn.__version__)\n"
      ],
      "execution_count": 9,
      "outputs": [
        {
          "output_type": "stream",
          "text": [
            "Python Version: 3.6.9 (default, Oct  8 2020, 12:12:24) \n",
            "[GCC 8.4.0]\n",
            "SciKit-Learn Version: 0.22.2.post1\n"
          ],
          "name": "stdout"
        }
      ]
    }
  ]
}